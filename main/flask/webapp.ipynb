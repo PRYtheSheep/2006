{
 "cells": [
  {
   "cell_type": "code",
   "execution_count": null,
   "id": "a8316b3b",
   "metadata": {},
   "outputs": [],
   "source": [
    "from flask import Flask, render_template, redirect, url_for"
   ]
  },
  {
   "cell_type": "code",
   "execution_count": null,
   "id": "d1ebb372",
   "metadata": {},
   "outputs": [],
   "source": [
    "app = Flask(__name__)\n",
    "\n",
    "@app.route(\"/\")\n",
    "def home():\n",
    "    return render_template(\"homepage.html\")\n",
    "\n",
    "@app.route(\"/login\")\n",
    "def login():\n",
    "    return \"login page\"\n",
    "\n",
    "if __name__ == \"__main__\":\n",
    "    app.run()"
   ]
  },
  {
   "cell_type": "code",
   "execution_count": 8,
   "id": "f92eda6f",
   "metadata": {},
   "outputs": [],
   "source": [
    "from boundary import testModule"
   ]
  }
 ],
 "metadata": {
  "kernelspec": {
   "display_name": "Python 3 (ipykernel)",
   "language": "python",
   "name": "python3"
  },
  "language_info": {
   "codemirror_mode": {
    "name": "ipython",
    "version": 3
   },
   "file_extension": ".py",
   "mimetype": "text/x-python",
   "name": "python",
   "nbconvert_exporter": "python",
   "pygments_lexer": "ipython3",
   "version": "3.11.5"
  }
 },
 "nbformat": 4,
 "nbformat_minor": 5
}
