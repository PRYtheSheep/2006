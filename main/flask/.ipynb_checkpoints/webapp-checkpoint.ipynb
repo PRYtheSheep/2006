{
 "cells": [
  {
   "cell_type": "code",
   "execution_count": null,
   "id": "a8316b3b",
   "metadata": {},
   "outputs": [],
   "source": [
    "from flask import Flask, render_template, redirect, url_for, request"
   ]
  },
  {
   "cell_type": "code",
   "execution_count": null,
   "id": "d1ebb372",
   "metadata": {},
   "outputs": [],
   "source": [
    "app = Flask(__name__)\n",
    "\n",
    "@app.route(\"/\")\n",
    "def home():\n",
    "    return render_template(\"homepage.html\")\n",
    "\n",
    "@app.route(\"/login\", methods=[\"POST\", \"GET\"])\n",
    "def login():\n",
    "    if request.method == \"POST\":\n",
    "        form_data = request.form\n",
    "        return redirect(url_for(\"user\", usr=form_data[\"username\"]))\n",
    "    else:\n",
    "        return render_template(\"loginpage.html\")\n",
    "\n",
    "@app.route(\"/<usr>\")\n",
    "def user(usr):\n",
    "    return f\"<h1>{usr}</h1>\"\n",
    "        \n",
    "if __name__ == \"__main__\":\n",
    "    app.run()"
   ]
  },
  {
   "cell_type": "code",
   "execution_count": null,
   "id": "03444860",
   "metadata": {},
   "outputs": [],
   "source": []
  }
 ],
 "metadata": {
  "kernelspec": {
   "display_name": "Python 3 (ipykernel)",
   "language": "python",
   "name": "python3"
  },
  "language_info": {
   "codemirror_mode": {
    "name": "ipython",
    "version": 3
   },
   "file_extension": ".py",
   "mimetype": "text/x-python",
   "name": "python",
   "nbconvert_exporter": "python",
   "pygments_lexer": "ipython3",
   "version": "3.11.5"
  }
 },
 "nbformat": 4,
 "nbformat_minor": 5
}
